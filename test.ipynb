{
 "metadata": {
  "name": "",
  "signature": "sha256:9cebf54020b03451f04e58debabf717fb626d7ccedaac5cb1b626d11b865f500"
 },
 "nbformat": 3,
 "nbformat_minor": 0,
 "worksheets": [
  {
   "cells": [
    {
     "cell_type": "code",
     "collapsed": false,
     "input": [
      "import pandas as pd\n",
      "import numpy as np\n",
      "import glob, sys\n",
      "from datetime import date\n",
      "import pickle\n",
      "from random import randint\n",
      "\n",
      "from sklearn.ensemble import RandomForestClassifier as rfc\n",
      "from sklearn.metrics import roc_curve, auc\n",
      "\n",
      "import matplotlib.pyplot as plt\n",
      "\n",
      "\n",
      "\n"
     ],
     "language": "python",
     "metadata": {},
     "outputs": [],
     "prompt_number": 38
    },
    {
     "cell_type": "code",
     "collapsed": false,
     "input": [
      "##Load loanData\n",
      "print \"loading data...\"\n",
      "f = open('data.pickle', 'rb')\n",
      "loanData = pickle.load(f)"
     ],
     "language": "python",
     "metadata": {},
     "outputs": []
    },
    {
     "cell_type": "code",
     "collapsed": false,
     "input": [
      "##remove all non-finished loans\n",
      "loanData = loanData[[x in ['Charged Off', 'Default', 'Fully Paid'] for x in loanData['loan_status']]]\n",
      "loanData.index = range(len(loanData))\n",
      "\n",
      "##remove all states\n",
      "loanData = loanData.drop('addr_state', 1)\n",
      "loanData = loanData.drop('total_pymnt', 1)\n",
      "loanData = loanData.drop('pymnt_plan', 1)\n",
      "loanData = loanData.drop('initial_list_status', 1)\n",
      "loanData = loanData.drop('mths_since_last_major_derog', 1)\n",
      "loanData = loanData.drop('policy_code', 1)\n"
     ],
     "language": "python",
     "metadata": {},
     "outputs": [],
     "prompt_number": 3
    },
    {
     "cell_type": "code",
     "collapsed": false,
     "input": [
      "##Relabel all defaulted loans as charged off and number them\n",
      "for i in range(len(loanData['loan_status'])):\n",
      "\tif loanData['loan_status'][i] == 'Default':\n",
      "\t\tloanData['loan_status'][i] = 0\n",
      "\telif loanData['loan_status'][i] == 'Charged Off':\n",
      "\t\tloanData['loan_status'][i] = 0\n",
      "\telse:\n",
      "\t\tloanData['loan_status'][i] = 1\n",
      "\n",
      "\n",
      "\n",
      "labels = loanData['loan_status'].values\n",
      "feature_names = list(loanData.columns.values)\n",
      "feature_names.remove('loan_status')\n",
      "\n",
      "\n",
      "features = loanData[feature_names].values\n"
     ],
     "language": "python",
     "metadata": {},
     "outputs": [],
     "prompt_number": 4
    },
    {
     "cell_type": "code",
     "collapsed": false,
     "input": [
      "##Split into training and testing values\n",
      "print \"splitting into training and testing data...\"\n",
      "test_indices = []\n",
      "train_indices = range(len(features))\n",
      "while len(test_indices) < 10000:\n",
      "\tr = randint(0, len(labels)-1)\n",
      "\tif r not in test_indices:\n",
      "\t\ttest_indices.append(r)\n",
      "\t\ttrain_indices.remove(r)\n",
      "\n",
      "test_X = features[test_indices]\n",
      "test_y = labels[test_indices]\n",
      "\n",
      "##balance the training data by including 5 copies of each defaulted loan\n",
      "print \"balancing default loans...\"\n",
      "for i in range(len(train_indices)):\n",
      "\tif labels[train_indices[i]] == 0:\n",
      "\t\tfor j in range(1,5):\n",
      "\t\t\t#add in the index 4 more times\n",
      "\t\t\ttrain_indices.append(train_indices[i])\n",
      "X = features[train_indices]\n",
      "y = labels[train_indices]\n",
      "\n",
      "\n",
      "print \"number of loans in training set: \" , len(y)\n",
      "print \"number of defaults: \", np.sum(y == 0)\n",
      "\n",
      "print \"number of loans in test set: \", len(test_y)\n",
      "\n",
      "\n",
      "\n"
     ],
     "language": "python",
     "metadata": {},
     "outputs": [
      {
       "output_type": "stream",
       "stream": "stdout",
       "text": [
        "splitting into training and testing data...\n",
        "balancing default loans..."
       ]
      },
      {
       "output_type": "stream",
       "stream": "stdout",
       "text": [
        "\n",
        "number of loans in training set: "
       ]
      },
      {
       "output_type": "stream",
       "stream": "stdout",
       "text": [
        " 150128\n",
        "number of defaults:  79400\n",
        "number of loans in test set:  10000\n"
       ]
      }
     ],
     "prompt_number": 64
    },
    {
     "cell_type": "code",
     "collapsed": false,
     "input": [
      "pred = dict()\n",
      "pred_proba = dict()"
     ],
     "language": "python",
     "metadata": {},
     "outputs": [],
     "prompt_number": 93
    },
    {
     "cell_type": "code",
     "collapsed": false,
     "input": [
      "###Random Forest Classifier\n",
      "j = 2\n",
      "clf = rfc(n_estimators=j, oob_score = True)\n",
      "clf = clf.fit(X, y)\n",
      "print j\n",
      "print \"oob_score: \", clf.oob_score_\n",
      "\n",
      "print clf.feature_importances_ * 100\n",
      "print feature_names\n",
      "\n",
      "pred[j] = clf.predict(test_X)\n",
      "pred_proba[j] = clf.predict_proba(test_X)\n",
      "\n",
      "predict_paid_actually_paid = np.sum((pred == 1) & (test_y == 1))*1.0 / np.sum(test_y == 1)\n",
      "predict_paid_actually_default = np.sum((pred == 1) & (test_y == 0))*1.0 / np.sum(test_y == 0)\n",
      "predict_default_actually_paid = np.sum((pred == 0) & (test_y == 1))*1.0 / np.sum(test_y == 1)\n",
      "predict_default_actually_default = np.sum((pred == 0) & (test_y == 0))*1.0 / np.sum(test_y == 0)\n",
      "\n",
      "print \"predict_paid_actually_paid: \" + str(predict_paid_actually_paid)\n",
      "print \"predict_paid_actually_default: \" + str(predict_paid_actually_default)\n",
      "print \"predict_default_actually_paid: \" + str(predict_default_actually_paid)\n",
      "print \"predict_default_actually_default: \" + str(predict_default_actually_default)\n",
      "\n",
      "print \"total default rate: \" , np.sum(test_y == 0)*1.0 / np.size(test_y)\n",
      "print \"algorithm's default rate: \" , np.sum((pred == 1) & (test_y == 0))*1.0 / np.sum(pred == 1)\n",
      "print \"\\n\""
     ],
     "language": "python",
     "metadata": {},
     "outputs": [
      {
       "output_type": "stream",
       "stream": "stdout",
       "text": [
        "2\n",
        "oob_score:  0.733960353831\n",
        "[ 4.57243585  1.93810556  8.01217209  6.01459125  2.63336483  3.45538162\n",
        "  1.05835575  7.51376615  0.79415314  2.63402204  6.32338223  7.58653636\n",
        "  0.9181953   1.78042788  3.04307757  0.94527491  4.07940961  0.47127035\n",
        "  6.21210158  7.0175892   5.44168597  0.03056748  3.81303195  3.8501243\n",
        "  4.73152252  5.12945452]\n",
        "['loan_amnt', 'term', 'int_rate', 'installment', 'grade', 'emp_length', 'home_ownership', 'annual_inc', 'is_inc_v', 'purpose', 'zip_code', 'dti', 'delinq_2yrs', 'inq_last_6mths', 'mths_since_last_delinq', 'mths_since_last_record', 'open_acc', 'pub_rec', 'revol_bal', 'revol_util', 'total_acc', 'collections_12_mths_ex_med', 'issue_month', 'issue_year', 'state_id', 'yrs_since_first_cr_line']\n",
        "predict_paid_actually_paid: 0.0"
       ]
      },
      {
       "output_type": "stream",
       "stream": "stdout",
       "text": [
        "\n",
        "predict_paid_actually_default: 0.0\n",
        "predict_default_actually_paid: 0.0\n",
        "predict_default_actually_default: 0.0\n",
        "total default rate:  0.1896\n",
        "algorithm's default rate:  nan\n",
        "\n",
        "\n"
       ]
      }
     ],
     "prompt_number": 94
    },
    {
     "cell_type": "code",
     "collapsed": false,
     "input": [
      "pred_proba[2][:,1]"
     ],
     "language": "python",
     "metadata": {},
     "outputs": [
      {
       "metadata": {},
       "output_type": "pyout",
       "prompt_number": 96,
       "text": [
        "array([ 1. ,  1. ,  1. , ...,  1. ,  1. ,  0.5])"
       ]
      }
     ],
     "prompt_number": 96
    },
    {
     "cell_type": "code",
     "collapsed": false,
     "input": [
      "pred_proba[2][:100]"
     ],
     "language": "python",
     "metadata": {},
     "outputs": [
      {
       "metadata": {},
       "output_type": "pyout",
       "prompt_number": 108,
       "text": [
        "array([[ 0. ,  1. ],\n",
        "       [ 0. ,  1. ],\n",
        "       [ 0. ,  1. ],\n",
        "       [ 0. ,  1. ],\n",
        "       [ 0. ,  1. ],\n",
        "       [ 0.5,  0.5],\n",
        "       [ 0. ,  1. ],\n",
        "       [ 0.5,  0.5],\n",
        "       [ 0.5,  0.5],\n",
        "       [ 0. ,  1. ],\n",
        "       [ 0.5,  0.5],\n",
        "       [ 0. ,  1. ],\n",
        "       [ 0. ,  1. ],\n",
        "       [ 1. ,  0. ],\n",
        "       [ 0. ,  1. ],\n",
        "       [ 0. ,  1. ],\n",
        "       [ 0. ,  1. ],\n",
        "       [ 0. ,  1. ],\n",
        "       [ 0. ,  1. ],\n",
        "       [ 0. ,  1. ],\n",
        "       [ 0. ,  1. ],\n",
        "       [ 0. ,  1. ],\n",
        "       [ 0. ,  1. ],\n",
        "       [ 0. ,  1. ],\n",
        "       [ 0. ,  1. ],\n",
        "       [ 0.5,  0.5],\n",
        "       [ 1. ,  0. ],\n",
        "       [ 0.5,  0.5],\n",
        "       [ 0.5,  0.5],\n",
        "       [ 0.5,  0.5],\n",
        "       [ 0.5,  0.5],\n",
        "       [ 0. ,  1. ],\n",
        "       [ 0. ,  1. ],\n",
        "       [ 0.5,  0.5],\n",
        "       [ 0. ,  1. ],\n",
        "       [ 0. ,  1. ],\n",
        "       [ 0.5,  0.5],\n",
        "       [ 0.5,  0.5],\n",
        "       [ 0. ,  1. ],\n",
        "       [ 0. ,  1. ],\n",
        "       [ 0. ,  1. ],\n",
        "       [ 0. ,  1. ],\n",
        "       [ 0.5,  0.5],\n",
        "       [ 0. ,  1. ],\n",
        "       [ 0.5,  0.5],\n",
        "       [ 0. ,  1. ],\n",
        "       [ 0. ,  1. ],\n",
        "       [ 0. ,  1. ],\n",
        "       [ 0.5,  0.5],\n",
        "       [ 0.5,  0.5],\n",
        "       [ 0.5,  0.5],\n",
        "       [ 0.5,  0.5],\n",
        "       [ 0. ,  1. ],\n",
        "       [ 0. ,  1. ],\n",
        "       [ 0.5,  0.5],\n",
        "       [ 0. ,  1. ],\n",
        "       [ 0. ,  1. ],\n",
        "       [ 0.5,  0.5],\n",
        "       [ 0.5,  0.5],\n",
        "       [ 0. ,  1. ],\n",
        "       [ 0. ,  1. ],\n",
        "       [ 0.5,  0.5],\n",
        "       [ 0.5,  0.5],\n",
        "       [ 0. ,  1. ],\n",
        "       [ 0.5,  0.5],\n",
        "       [ 1. ,  0. ],\n",
        "       [ 0. ,  1. ],\n",
        "       [ 0. ,  1. ],\n",
        "       [ 0.5,  0.5],\n",
        "       [ 0. ,  1. ],\n",
        "       [ 0. ,  1. ],\n",
        "       [ 0. ,  1. ],\n",
        "       [ 0. ,  1. ],\n",
        "       [ 0. ,  1. ],\n",
        "       [ 0. ,  1. ],\n",
        "       [ 0. ,  1. ],\n",
        "       [ 0. ,  1. ],\n",
        "       [ 0. ,  1. ],\n",
        "       [ 0. ,  1. ],\n",
        "       [ 0. ,  1. ],\n",
        "       [ 1. ,  0. ],\n",
        "       [ 0. ,  1. ],\n",
        "       [ 0.5,  0.5],\n",
        "       [ 0.5,  0.5],\n",
        "       [ 0. ,  1. ],\n",
        "       [ 0.5,  0.5],\n",
        "       [ 1. ,  0. ],\n",
        "       [ 0. ,  1. ],\n",
        "       [ 1. ,  0. ],\n",
        "       [ 0.5,  0.5],\n",
        "       [ 0. ,  1. ],\n",
        "       [ 0. ,  1. ],\n",
        "       [ 0.5,  0.5],\n",
        "       [ 1. ,  0. ],\n",
        "       [ 0. ,  1. ],\n",
        "       [ 0.5,  0.5],\n",
        "       [ 0.5,  0.5],\n",
        "       [ 0.5,  0.5],\n",
        "       [ 0.5,  0.5],\n",
        "       [ 0. ,  1. ]])"
       ]
      }
     ],
     "prompt_number": 108
    },
    {
     "cell_type": "code",
     "collapsed": false,
     "input": [
      "fpr = dict()\n",
      "tpr = dict()\n",
      "thresholds = dict()"
     ],
     "language": "python",
     "metadata": {},
     "outputs": [],
     "prompt_number": 100
    },
    {
     "cell_type": "code",
     "collapsed": false,
     "input": [
      "#test_y = np.int64(test_y)\n",
      "\n",
      "fpr[2], tpr[2], thresholds[2] = roc_curve(test_y, pred_proba[2][:, 1], pos_label=1)\n",
      "\n"
     ],
     "language": "python",
     "metadata": {},
     "outputs": [
      {
       "ename": "ValueError",
       "evalue": "too many values to unpack",
       "output_type": "pyerr",
       "traceback": [
        "\u001b[0;31m---------------------------------------------------------------------------\u001b[0m\n\u001b[0;31mValueError\u001b[0m                                Traceback (most recent call last)",
        "\u001b[0;32m<ipython-input-105-72eb9b8c302d>\u001b[0m in \u001b[0;36m<module>\u001b[0;34m()\u001b[0m\n\u001b[1;32m      1\u001b[0m \u001b[0;31m#test_y = np.int64(test_y)\u001b[0m\u001b[0;34m\u001b[0m\u001b[0;34m\u001b[0m\u001b[0m\n\u001b[1;32m      2\u001b[0m \u001b[0;34m\u001b[0m\u001b[0m\n\u001b[0;32m----> 3\u001b[0;31m \u001b[0mfpr\u001b[0m\u001b[0;34m[\u001b[0m\u001b[0;36m2\u001b[0m\u001b[0;34m]\u001b[0m\u001b[0;34m,\u001b[0m \u001b[0mtpr\u001b[0m\u001b[0;34m[\u001b[0m\u001b[0;36m2\u001b[0m\u001b[0;34m]\u001b[0m \u001b[0;34m=\u001b[0m \u001b[0mroc_curve\u001b[0m\u001b[0;34m(\u001b[0m\u001b[0mtest_y\u001b[0m\u001b[0;34m,\u001b[0m \u001b[0mpred_proba\u001b[0m\u001b[0;34m[\u001b[0m\u001b[0;36m2\u001b[0m\u001b[0;34m]\u001b[0m\u001b[0;34m[\u001b[0m\u001b[0;34m:\u001b[0m\u001b[0;34m,\u001b[0m \u001b[0;36m1\u001b[0m\u001b[0;34m]\u001b[0m\u001b[0;34m,\u001b[0m \u001b[0mpos_label\u001b[0m\u001b[0;34m=\u001b[0m\u001b[0;36m1\u001b[0m\u001b[0;34m)\u001b[0m\u001b[0;34m\u001b[0m\u001b[0m\n\u001b[0m\u001b[1;32m      4\u001b[0m \u001b[0;34m\u001b[0m\u001b[0m\n",
        "\u001b[0;31mValueError\u001b[0m: too many values to unpack"
       ]
      }
     ],
     "prompt_number": 105
    },
    {
     "cell_type": "code",
     "collapsed": false,
     "input": [
      "# Plot of a ROC curve\n",
      "plt.figure()\n",
      "plt.plot(fpr[2], tpr[2], label='ROC curve')\n",
      "plt.plot([0, 1], [0, 1], 'k--')\n",
      "plt.xlim([0.0, 1.0])\n",
      "plt.ylim([0.0, 1.05])\n",
      "plt.xlabel('False Positive Rate')\n",
      "plt.ylabel('True Positive Rate')\n",
      "plt.title('Receiver operating characteristic example')\n",
      "plt.legend(loc=\"lower right\")\n",
      "plt.show()"
     ],
     "language": "python",
     "metadata": {},
     "outputs": [],
     "prompt_number": 104
    },
    {
     "cell_type": "raw",
     "metadata": {},
     "source": []
    },
    {
     "cell_type": "code",
     "collapsed": false,
     "input": [],
     "language": "python",
     "metadata": {},
     "outputs": []
    }
   ],
   "metadata": {}
  }
 ]
}