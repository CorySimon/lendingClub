{
 "metadata": {
  "name": "",
  "signature": "sha256:cf3b3171569531eb452587f17878bf6d90fd2b0d21d7824a09c44a884013b473"
 },
 "nbformat": 3,
 "nbformat_minor": 0,
 "worksheets": [
  {
   "cells": [
    {
     "cell_type": "code",
     "collapsed": false,
     "input": [
      "import pandas as pd\n",
      "import numpy as np\n",
      "import glob, sys\n",
      "from datetime import date\n",
      "import pickle\n",
      "from sklearn.preprocessing import OneHotEncoder \n",
      "\n",
      "##Load Data\n",
      "files = glob.glob('./data/LoanStats3a.csv')\n",
      "list1 = []\n",
      "for fileName in files:\n",
      "    tempFrame = pd.read_csv(fileName, header=1)\n",
      "    list1.append(tempFrame)\n",
      "loanData = pd.concat(list1, ignore_index=True)\n",
      "\n",
      "\n",
      "loanData = loanData.drop([\"member_id\", \n",
      "\t\t\t\t\t\t  \"id\", \"url\", \n",
      "\t\t\t\t\t\t  \"funded_amnt_inv\", \n",
      "\t\t\t\t\t\t  \"out_prncp\", \n",
      "\t\t\t\t\t\t  \"out_prncp_inv\", \n",
      "\t\t\t\t\t\t  \"total_pymnt_inv\", \n",
      "\t\t\t\t\t\t  \"total_rec_prncp\", \n",
      "\t\t\t\t\t\t  \"total_rec_int\", \n",
      "\t\t\t\t\t\t  \"total_rec_late_fee\", \n",
      "\t\t\t\t\t\t  \"recoveries\", \n",
      "\t\t\t\t\t\t  \"collection_recovery_fee\", \n",
      "\t\t\t\t\t\t  \"desc\", \"last_pymnt_d\", \n",
      "\t\t\t\t\t\t  \"last_pymnt_amnt\", \n",
      "\t\t\t\t\t\t  \"funded_amnt\", \n",
      "\t\t\t\t\t\t  \"sub_grade\", \n",
      "\t\t\t\t\t\t  \"emp_title\", \n",
      "\t\t\t\t\t\t  \"title\", \n",
      "\t\t\t\t\t\t  \"next_pymnt_d\", \n",
      "\t\t\t\t\t\t  \"last_credit_pull_d\"], 1)\n",
      "\n",
      "\n"
     ],
     "language": "python",
     "metadata": {},
     "outputs": []
    },
    {
     "cell_type": "code",
     "collapsed": false,
     "input": [
      "##grade\n",
      "loanData = loanData[pd.isnull(loanData['grade']) == 0]\n",
      "loanData.index = range(len(loanData))\n",
      "\n",
      "grades = dict(zip(loanData['grade'].unique(), np.arange(loanData['grade'].nunique())))\n",
      "loanData['grade'] = loanData['grade'].map(lambda x: grades[x])\n",
      "enc = OneHotEncoder()\n",
      "enc.fit(loanData['grade'])\n",
      "gradesBinarized = pd.DataFrame(enc.transform(loanData['grade']).toarray() )\n",
      "loanData = pd.merge(loanData, gradesBinarized)"
     ],
     "language": "python",
     "metadata": {},
     "outputs": []
    }
   ],
   "metadata": {}
  }
 ]
}