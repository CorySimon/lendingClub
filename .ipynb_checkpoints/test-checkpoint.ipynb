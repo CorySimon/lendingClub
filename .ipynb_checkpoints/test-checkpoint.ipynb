{
 "metadata": {
  "name": "",
  "signature": "sha256:b06551acbaefda5ed6d6117073ab90a5a5388c64d5a8bf8e2be22634fd791ca9"
 },
 "nbformat": 3,
 "nbformat_minor": 0,
 "worksheets": [
  {
   "cells": [
    {
     "cell_type": "code",
     "collapsed": false,
     "input": [
      "import pandas as pd\n",
      "import numpy as np\n",
      "import glob, sys\n",
      "from datetime import date\n",
      "import pickle\n",
      "from random import randint\n",
      "\n",
      "from sklearn.ensemble import RandomForestClassifier as rfc\n",
      "from sklearn.metrics import roc_curve, auc\n",
      "\n",
      "import matplotlib.pyplot as plt\n",
      "\n",
      "\n",
      "\n"
     ],
     "language": "python",
     "metadata": {},
     "outputs": [],
     "prompt_number": 38
    },
    {
     "cell_type": "code",
     "collapsed": false,
     "input": [
      "##Load loanData\n",
      "print \"loading data...\"\n",
      "f = open('data.pickle', 'rb')\n",
      "loanData = pickle.load(f)"
     ],
     "language": "python",
     "metadata": {},
     "outputs": []
    },
    {
     "cell_type": "code",
     "collapsed": false,
     "input": [
      "##remove all non-finished loans\n",
      "loanData = loanData[[x in ['Charged Off', 'Default', 'Fully Paid'] for x in loanData['loan_status']]]\n",
      "loanData.index = range(len(loanData))\n",
      "\n",
      "##remove all states\n",
      "loanData = loanData.drop('addr_state', 1)\n",
      "loanData = loanData.drop('total_pymnt', 1)\n",
      "loanData = loanData.drop('pymnt_plan', 1)\n",
      "loanData = loanData.drop('initial_list_status', 1)\n",
      "loanData = loanData.drop('mths_since_last_major_derog', 1)\n",
      "loanData = loanData.drop('policy_code', 1)\n"
     ],
     "language": "python",
     "metadata": {},
     "outputs": [],
     "prompt_number": 3
    },
    {
     "cell_type": "code",
     "collapsed": false,
     "input": [
      "##Relabel all defaulted loans as charged off and number them\n",
      "for i in range(len(loanData['loan_status'])):\n",
      "\tif loanData['loan_status'][i] == 'Default':\n",
      "\t\tloanData['loan_status'][i] = 0\n",
      "\telif loanData['loan_status'][i] == 'Charged Off':\n",
      "\t\tloanData['loan_status'][i] = 0\n",
      "\telse:\n",
      "\t\tloanData['loan_status'][i] = 1\n",
      "\n",
      "\n",
      "\n",
      "labels = loanData['loan_status'].values\n",
      "feature_names = list(loanData.columns.values)\n",
      "feature_names.remove('loan_status')\n",
      "\n",
      "\n",
      "features = loanData[feature_names].values\n"
     ],
     "language": "python",
     "metadata": {},
     "outputs": [],
     "prompt_number": 4
    },
    {
     "cell_type": "code",
     "collapsed": false,
     "input": [
      "##Split into training and testing values\n",
      "print \"splitting into training and testing data...\"\n",
      "test_indices = []\n",
      "train_indices = range(len(features))\n",
      "while len(test_indices) < 10000:\n",
      "\tr = randint(0, len(labels)-1)\n",
      "\tif r not in test_indices:\n",
      "\t\ttest_indices.append(r)\n",
      "\t\ttrain_indices.remove(r)\n",
      "\n",
      "test_X = features[test_indices]\n",
      "test_y = labels[test_indices]\n",
      "\n",
      "##balance the training data by including 5 copies of each defaulted loan\n",
      "print \"balancing default loans...\"\n",
      "for i in range(len(train_indices)):\n",
      "\tif labels[train_indices[i]] == 0:\n",
      "\t\tfor j in range(1,5):\n",
      "\t\t\t#add in the index 4 more times\n",
      "\t\t\ttrain_indices.append(train_indices[i])\n",
      "X = features[train_indices]\n",
      "y = labels[train_indices]\n",
      "\n",
      "\n",
      "print \"number of loans in training set: \" , len(y)\n",
      "print \"number of defaults: \", np.sum(y == 0)\n",
      "\n",
      "print \"number of loans in test set: \", len(test_y)\n",
      "\n",
      "\n",
      "\n"
     ],
     "language": "python",
     "metadata": {},
     "outputs": [
      {
       "output_type": "stream",
       "stream": "stdout",
       "text": [
        "splitting into training and testing data...\n",
        "balancing default loans..."
       ]
      },
      {
       "output_type": "stream",
       "stream": "stdout",
       "text": [
        "\n",
        "number of loans in training set: "
       ]
      },
      {
       "output_type": "stream",
       "stream": "stdout",
       "text": [
        " 150128\n",
        "number of defaults:  79400\n",
        "number of loans in test set:  10000\n"
       ]
      }
     ],
     "prompt_number": 64
    },
    {
     "cell_type": "code",
     "collapsed": false,
     "input": [
      "pred = dict()\n",
      "pred_proba = dict()"
     ],
     "language": "python",
     "metadata": {},
     "outputs": []
    },
    {
     "cell_type": "code",
     "collapsed": false,
     "input": [
      "###Random Forest Classifier\n",
      "j = 2\n",
      "clf = rfc(n_estimators=j, oob_score = True)\n",
      "clf = clf.fit(X, y)\n",
      "print j\n",
      "print \"oob_score: \", clf.oob_score_\n",
      "\n",
      "print clf.feature_importances_ * 100\n",
      "print feature_names\n",
      "\n",
      "pred[j] = clf.predict(test_X)\n",
      "pred_proba[j] = clf.predict_proba(test_X)\n",
      "\n",
      "predict_paid_actually_paid = np.sum((pred == 1) & (test_y == 1))*1.0 / np.sum(test_y == 1)\n",
      "predict_paid_actually_default = np.sum((pred == 1) & (test_y == 0))*1.0 / np.sum(test_y == 0)\n",
      "predict_default_actually_paid = np.sum((pred == 0) & (test_y == 1))*1.0 / np.sum(test_y == 1)\n",
      "predict_default_actually_default = np.sum((pred == 0) & (test_y == 0))*1.0 / np.sum(test_y == 0)\n",
      "\n",
      "print \"predict_paid_actually_paid: \" + str(predict_paid_actually_paid)\n",
      "print \"predict_paid_actually_default: \" + str(predict_paid_actually_default)\n",
      "print \"predict_default_actually_paid: \" + str(predict_default_actually_paid)\n",
      "print \"predict_default_actually_default: \" + str(predict_default_actually_default)\n",
      "\n",
      "print \"total default rate: \" , np.sum(test_y == 0)*1.0 / np.size(test_y)\n",
      "print \"algorithm's default rate: \" , np.sum((pred == 1) & (test_y == 0))*1.0 / np.sum(pred == 1)\n",
      "print \"\\n\""
     ],
     "language": "python",
     "metadata": {},
     "outputs": []
    },
    {
     "cell_type": "code",
     "collapsed": false,
     "input": [
      "#test_y = np.int64(test_y)\n",
      "\n",
      "fpr, tpr, thresholds = roc_curve(test_y, pred_proba[:, 1], pos_label=1)\n",
      "\n"
     ],
     "language": "python",
     "metadata": {},
     "outputs": [],
     "prompt_number": 90
    },
    {
     "cell_type": "code",
     "collapsed": false,
     "input": [
      "# Plot of a ROC curve\n",
      "plt.figure()\n",
      "plt.plot(fpr, tpr, label='ROC curve')\n",
      "plt.plot([0, 1], [0, 1], 'k--')\n",
      "plt.xlim([0.0, 1.0])\n",
      "plt.ylim([0.0, 1.05])\n",
      "plt.xlabel('False Positive Rate')\n",
      "plt.ylabel('True Positive Rate')\n",
      "plt.title('Receiver operating characteristic example')\n",
      "plt.legend(loc=\"lower right\")\n",
      "plt.show()"
     ],
     "language": "python",
     "metadata": {},
     "outputs": [],
     "prompt_number": 91
    },
    {
     "cell_type": "raw",
     "metadata": {},
     "source": []
    }
   ],
   "metadata": {}
  }
 ]
}